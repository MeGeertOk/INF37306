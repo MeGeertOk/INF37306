{
  "nbformat": 4,
  "nbformat_minor": 0,
  "metadata": {
    "colab": {
      "provenance": [],
      "collapsed_sections": [],
      "authorship_tag": "ABX9TyPMJkH1lC4apaZWObO1qSUn",
      "include_colab_link": true
    },
    "kernelspec": {
      "name": "python3",
      "display_name": "Python 3"
    },
    "language_info": {
      "name": "python"
    }
  },
  "cells": [
    {
      "cell_type": "markdown",
      "metadata": {
        "id": "view-in-github",
        "colab_type": "text"
      },
      "source": [
        "<a href=\"https://colab.research.google.com/github/MeGeertOk/INF37306/blob/main/Prediction_model.ipynb\" target=\"_parent\"><img src=\"https://colab.research.google.com/assets/colab-badge.svg\" alt=\"Open In Colab\"/></a>"
      ]
    },
    {
      "cell_type": "code",
      "execution_count": 5,
      "metadata": {
        "id": "11OVS6Esl_fC"
      },
      "outputs": [],
      "source": [
        "#Import the libraries\n",
        "from sklearn.svm import SVR\n",
        "import numpy as np\n",
        "import pandas as pd\n",
        "import matplotlib.pyplot as plt\n",
        "plt.style.use('fivethirtyeight')"
      ]
    },
    {
      "cell_type": "code",
      "source": [
        "#Connect to GitHub repository\n",
        "url = \"https://raw.githubusercontent.com/MeGeertOk/INF37306/main/PESTS_V4_github.csv\"\n",
        "\n",
        "#Store data\n",
        "df = pd.read_csv(url, sep = ';') #sep ; since this CSV is seperated with ; instead of comma\n",
        "# #show the data\n",
        "# df"
      ],
      "metadata": {
        "id": "O3nZB3MWmDhy"
      },
      "execution_count": 6,
      "outputs": []
    },
    {
      "cell_type": "code",
      "source": [
        "def RBF_svr_calculation(section, week, dataframe):\n",
        "  # Save dataframe as df\n",
        "  df = dataframe\n",
        "\n",
        "  # Group data by SectionId\n",
        "  group = section  # Section you want to predict for\n",
        "\n",
        "  grouped = df.groupby(df.SectionId)\n",
        "  df = grouped.get_group(group)\n",
        "\n",
        "  # Remove data after the week we want to predict for\n",
        "  df = df[df['week'] <= week]\n",
        "\n",
        "  # Sort data ascending by week\n",
        "  df = df.sort_values(by=\"week\")\n",
        "\n",
        "  # Store the last row of data\n",
        "  actual_value = df.tail(1)\n",
        "\n",
        "  # Get all data except the last row\n",
        "  df = df.head(len(df)-1)\n",
        "\n",
        "  #Create empty lists\n",
        "  weeks = list()\n",
        "  adj_values = list ()  \n",
        "\n",
        "  # Get only the date and adj_values\n",
        "  df_weeks = df.loc[:,\"week\"]\n",
        "  df_adj_values = df.loc[:,\"value\"]\n",
        "\n",
        "  # Create the independent data set (dates)\n",
        "  for week in df_weeks:\n",
        "    weeks.append([int(week)])\n",
        "  # Create the dependent data set (values)\n",
        "  for value in df_adj_values:\n",
        "    adj_values.append((float(value)))\n",
        "\n",
        "  #Make the RBF model\n",
        "  RBF_svr = SVR(kernel='rbf', C= 1000.0, gamma= 0.85)\n",
        "  RBF_svr.fit(weeks, adj_values)\n",
        "\n",
        "  # Value needed for plotting\n",
        "  pred_weeks = RBF_svr.predict(weeks)\n",
        "\n",
        "  # Predict the value\n",
        "  week = [[week]]\n",
        "  pred_value = RBF_svr.predict(week)\n",
        "\n",
        "  # Actual value\n",
        "  actual_value = actual_value[\"value\"]\n",
        "\n",
        "  return [pred_value, weeks, adj_values, pred_weeks, actual_value]"
      ],
      "metadata": {
        "id": "qgy1j550mE4g"
      },
      "execution_count": 7,
      "outputs": []
    },
    {
      "cell_type": "code",
      "source": [
        "######################################################\n",
        "#################'''USER INPUTS'''####################\n",
        "######################################################\n",
        "\n",
        "Which_Section = 13 #Section ID you want to predict amount of pests for (RANGE 9 - 27)\n",
        "Which_Week = 24 #Week you want to predict for\n",
        "Which_dataframe = df # Standard dataframe is df\n",
        "\n",
        "\n",
        "######################################################\n",
        "######################################################\n",
        "######################################################\n",
        "\n",
        "predicted_value = RBF_svr_calculation(Which_Section, Which_Week, df)\n",
        "print('the RBF SVR predicted value:', predicted_value[0])\n",
        "print('the actual value:', predicted_value[4].tolist())\n",
        "\n",
        "# Plot the model\n",
        "plt.figure(figsize=(8,4))\n",
        "plt.scatter(predicted_value[1], predicted_value[2], color= 'black', label = 'Data')\n",
        "\n",
        "last_datapoint= predicted_value[1]\n",
        "last_datapoint = last_datapoint[-1:][0]\n",
        "plt.plot(last_datapoint, predicted_value[4].tolist(), '^' , color = 'red', label = 'True value')\n",
        "\n",
        "plt.plot(predicted_value[1], predicted_value[3], color = 'green', label = 'RBF model')\n",
        "\n",
        "plt.xlabel('weeks')\n",
        "plt.ylabel('pest values')\n",
        "plt.legend()\n",
        "plt.show"
      ],
      "metadata": {
        "colab": {
          "base_uri": "https://localhost:8080/",
          "height": 358
        },
        "id": "foTmZOZXmJQy",
        "outputId": "e9c2f83b-8b2a-43a8-a403-c98d9b4f8139"
      },
      "execution_count": 9,
      "outputs": [
        {
          "output_type": "stream",
          "name": "stdout",
          "text": [
            "the RBF SVR predicted value: [14.90001322]\n",
            "the actual value: [18]\n"
          ]
        },
        {
          "output_type": "execute_result",
          "data": {
            "text/plain": [
              "<function matplotlib.pyplot.show(*args, **kw)>"
            ]
          },
          "metadata": {},
          "execution_count": 9
        },
        {
          "output_type": "display_data",
          "data": {
            "text/plain": [
              "<Figure size 576x288 with 1 Axes>"
            ],
            "image/png": "[encoded data removed]"
          },
          "metadata": {}
        }
      ]
    },
    {
      "cell_type": "code",
      "source": [],
      "metadata": {
        "id": "m3ZZWGAUt6DE"
      },
      "execution_count": 4,
      "outputs": []
    }
  ]
}